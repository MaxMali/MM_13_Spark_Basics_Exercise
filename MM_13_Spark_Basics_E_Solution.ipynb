{
 "cells": [
  {
   "cell_type": "markdown",
   "metadata": {},
   "source": [
    "# Spark Basics Exercise\n",
    "\n",
    "\n"
   ]
  },
  {
   "cell_type": "markdown",
   "metadata": {},
   "source": [
    "## Aufgabe 1\n",
    "\n",
    "### Vorgehensweise Setup Spark\n",
    "\n",
    "1. Anleitungen und zusätzliche Infos besorgt. Siehe Links.....\n",
    "\n",
    "https://github.com/awesome-spark/awesome-spark#resources\n",
    "\n",
    "https://www.learntospark.com/2019/12/install-spark-in-windows-using-jupyter-notebook.html\n",
    "\n",
    "https://towardsdatascience.com/installing-apache-pyspark-on-windows-10-f5f0c506bea1\n",
    "\n",
    "2. Java installiert.\n",
    "3. Python installiert.\n",
    "4. Spark herruntergeladen, Verzeichnis erstellt und entpackt.\n",
    "5. Hadoop Verzeichnis erstellt, winutils.exe herruntegeladen und ins bin Verzeichnis von Haoop verschoben.\n",
    "6. Umgebungsvariablenen eingerichtet.\n",
    "7. spark-shell zum Testen ausgeführt.\n",
    "8. pyshark für Python installiert und pyshark getestet zum Starten von Spark\n",
    "\n",
    "\n",
    "### Probleme:\n",
    "\n",
    "Ich habe es erst unter Ubuntu versucht alles zum Laufen zubringen.\n",
    "Es hat leider nicht funktioniert und aus Zeitgründen bin ich dann zu Windows gewechselt. Auf meinem Windows Laptop hat fast alles funktioniert.\n",
    "Shark / pyshark hatte Probleme mit dem Python Pfad,deswegen musste ich bei den Umgebungsvariablen noch folgende 2 Zeilen hinzufügen:\n",
    "\n",
    "`PYTHONPATH=$SPARK_HOME$\\python`\n",
    "`$SPARK_HOME$\\python\\lib\\py4j-0.10.7-src.Zip`\n",
    "\n",
    "\n",
    "Es läuft. Siehe Screenshots. "
   ]
  },
  {
   "cell_type": "markdown",
   "metadata": {},
   "source": [
    "![Alt text](Screenshot1_Installation.png \"Installation Screenshot 1\")\n",
    "\n",
    "![Alt text](Screenshot2_Installation.png \"Installation Screenshot 2\")\n",
    "\n",
    "\n"
   ]
  },
  {
   "cell_type": "markdown",
   "metadata": {},
   "source": [
    "## Aufgabe 2\n",
    "\n",
    "Erfolgreich den Text gespeichert. Siehe Repo.\n",
    "\n",
    "https://raw.githubusercontent.com/MaxMali/MM_13_Spark_Basics_Exercise/master/t8.shakespeare.txt\n",
    "\n"
   ]
  },
  {
   "cell_type": "markdown",
   "metadata": {},
   "source": [
    "## Aufgabe 3\n",
    "\n",
    "Erfolgreich Text per Hand gesäubert. Siehe Repo. \n",
    "\n",
    "https://raw.githubusercontent.com/MaxMali/MM_13_Spark_Basics_Exercise/master/shakespeare_text_hand_clean.txt\n",
    "\n",
    "\n"
   ]
  },
  {
   "cell_type": "markdown",
   "metadata": {},
   "source": [
    "## Aufgabe 4\n",
    "\n",
    "Lösung der Aufgabe: \n",
    "\n",
    "![Alt text](Screenshot_Solution.png \"Screenshot von der Lösung\")"
   ]
  }
 ],
 "metadata": {
  "kernelspec": {
   "display_name": "Python 3",
   "language": "python",
   "name": "python3"
  },
  "language_info": {
   "codemirror_mode": {
    "name": "ipython",
    "version": 3
   },
   "file_extension": ".py",
   "mimetype": "text/x-python",
   "name": "python",
   "nbconvert_exporter": "python",
   "pygments_lexer": "ipython3",
   "version": "3.8.3"
  }
 },
 "nbformat": 4,
 "nbformat_minor": 1
}
