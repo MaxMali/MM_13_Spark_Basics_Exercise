{
 "cells": [
  {
   "cell_type": "markdown",
   "metadata": {},
   "source": [
    "# Spark Basics Exercise\n",
    "\n",
    "## Aufgabe 1\n",
    "\n",
    "![Alt text](Screenshot1_Installation.png \"Installation Screenshot 1\")\n",
    "\n",
    "![Alt text](Screenshot2_Installation.png \"Installation Screenshot 2\")\n",
    "\n"
   ]
  },
  {
   "cell_type": "markdown",
   "metadata": {},
   "source": [
    "## Aufgabe 2\n",
    "\n",
    "Erfolgreich den Text gespeichert. Siehe Repo.\n",
    "\n",
    "https://raw.githubusercontent.com/MaxMali/MM_13_Spark_Basics_Exercise/master/t8.shakespeare.txt"
   ]
  },
  {
   "cell_type": "markdown",
   "metadata": {},
   "source": [
    "## Aufgabe 3\n",
    "\n",
    "Erfolgreich Text per Hand gesäubert. Siehe Repo. \n",
    "\n",
    "https://raw.githubusercontent.com/MaxMali/MM_13_Spark_Basics_Exercise/master/shakespeare_text_hand_clean.txt"
   ]
  },
  {
   "cell_type": "markdown",
   "metadata": {},
   "source": [
    "## Aufgabe 4\n",
    "\n",
    "Lösung der Aufgabe: \n",
    "\n",
    "![Alt text](Screenshot_Solution.png \"Screenshot von der Lösung\")"
   ]
  },
  {
   "cell_type": "code",
   "execution_count": null,
   "metadata": {},
   "outputs": [],
   "source": []
  }
 ],
 "metadata": {
  "kernelspec": {
   "display_name": "Python 3",
   "language": "python",
   "name": "python3"
  },
  "language_info": {
   "codemirror_mode": {
    "name": "ipython",
    "version": 3
   },
   "file_extension": ".py",
   "mimetype": "text/x-python",
   "name": "python",
   "nbconvert_exporter": "python",
   "pygments_lexer": "ipython3",
   "version": "3.8.3"
  }
 },
 "nbformat": 4,
 "nbformat_minor": 1
}
